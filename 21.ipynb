{
 "cells": [
  {
   "cell_type": "code",
   "execution_count": null,
   "metadata": {},
   "outputs": [],
   "source": [
    "import numpy as np\n",
    "import matplotlib.pyplot as plt\n",
    "import ipywidgets as widgets\n",
    "from IPython.display import display"
   ]
  },
  {
   "cell_type": "code",
   "execution_count": 3,
   "metadata": {},
   "outputs": [],
   "source": [
    "# Blackjack Simulation Parameters\n",
    "num_hands = 1000\n",
    "num_simulations = 100"
   ]
  },
  {
   "cell_type": "code",
   "execution_count": 4,
   "metadata": {},
   "outputs": [],
   "source": [
    "# Blackjack Probabilities (simplified - adjust for more accuracy)\n",
    "# Example: Probability of winning a hand (adjust these)\n",
    "win_prob = 0.49  # Example: Slightly less than 50% due to house edge\n",
    "push_prob = 0.08  # Example: Probability of a push (tie)\n",
    "loss_prob = 1 - win_prob - push_prob"
   ]
  },
  {
   "cell_type": "code",
   "execution_count": null,
   "metadata": {},
   "outputs": [],
   "source": [
    "def simulate_coin_toss():\n",
    "    random_number = np.random.rand()\n",
    "\n",
    "    if random_number < 0.8:\n",
    "        return \"Heads\"\n",
    "    else:\n",
    "        return \"Tails\""
   ]
  },
  {
   "cell_type": "code",
   "execution_count": 30,
   "metadata": {},
   "outputs": [
    {
     "name": "stdout",
     "output_type": "stream",
     "text": [
      "80.00000000000001\n",
      "89.60000000000001\n",
      "100.352\n",
      "112.39424\n",
      "125.88154879999999\n",
      "140.98733465599997\n",
      "157.90581481471997\n",
      "126.324651851776\n",
      "101.05972148142081\n",
      "113.1868880591913\n",
      "126.76931462629426\n",
      "141.98163238144957\n",
      "159.0194282672235\n",
      "127.21554261377882\n",
      "142.48140772743227\n",
      "159.57917665472414\n",
      "178.72867785329103\n",
      "142.98294228263285\n",
      "160.14089535654878\n",
      "179.35780279933462\n",
      "200.88073913525477\n",
      "224.98642783148534\n",
      "251.98479917126357\n",
      "282.2229750718152\n",
      "316.089732080433\n",
      "354.02049993008495\n",
      "396.50295992169515\n",
      "444.0833151122985\n",
      "355.2666520898389\n",
      "284.21332167187114\n",
      "318.3189202724957\n",
      "254.65513621799658\n",
      "285.21375256415615\n",
      "319.4394028718549\n",
      "255.55152229748396\n",
      "286.21770497318204\n",
      "320.56382956996384\n",
      "359.0314891183595\n",
      "402.1152678125626\n",
      "321.69221425005014\n",
      "360.2952799600561\n",
      "403.5307135552628\n",
      "451.95439918189436\n",
      "361.56351934551554\n",
      "404.9511416669774\n",
      "453.54527866701466\n",
      "362.8362229336118\n",
      "406.37656968564517\n",
      "455.14175804792256\n",
      "364.1134064383381\n",
      "407.80701521093863\n",
      "456.74385703625126\n",
      "365.3950856290011\n",
      "409.2424959044812\n",
      "327.393996723585\n",
      "366.6812763304152\n",
      "293.3450210643322\n",
      "328.546423592052\n",
      "367.97199442309824\n",
      "294.37759553847866\n",
      "329.7029070030961\n",
      "369.2672558434676\n",
      "295.4138046747741\n",
      "330.86346123574697\n",
      "370.56707658403656\n",
      "415.0351257741209\n",
      "464.8393408670154\n",
      "520.6200617710572\n",
      "583.094469183584\n",
      "466.47557534686723\n",
      "522.4526443884913\n",
      "417.96211551079307\n",
      "468.1175693720882\n",
      "374.4940554976706\n",
      "419.43334215739105\n",
      "335.5466737259129\n",
      "375.8122745730224\n",
      "420.9097475217851\n",
      "336.72779801742814\n",
      "269.38223841394256\n",
      "301.70810702361564\n",
      "241.36648561889254\n",
      "270.3304638931596\n",
      "302.77011956033874\n",
      "242.21609564827102\n",
      "271.28202712606355\n",
      "217.02562170085088\n",
      "243.06869630495297\n",
      "272.2369398615473\n",
      "304.9053726449329\n",
      "243.92429811594639\n",
      "195.13943849275714\n",
      "218.55617111188798\n",
      "174.8449368895104\n",
      "195.82632931625162\n",
      "219.3254888342018\n",
      "245.64454749430598\n",
      "275.12189319362267\n",
      "220.09751455489817\n",
      "246.50921630148594\n"
     ]
    }
   ],
   "source": [
    "\n",
    "\n",
    "b = 3/5\n",
    "win = 0\n",
    "\n",
    "initial_balance = 100\n",
    "flips = 100\n",
    "\n",
    "def get_kelly(b, p):\n",
    "    return (b*p - (1-p))/b\n",
    "\n",
    "for i in range(flips):\n",
    "    amount = get_kelly(b, 0.7) * initial_balance\n",
    "    outcome = simulate_coin_toss()    \n",
    "    # initial_balance -= amount\n",
    "    if outcome == \"Heads\":\n",
    "        initial_balance += b * amount\n",
    "    else:\n",
    "        initial_balance -= amount\n",
    "    if initial_balance <= 0:\n",
    "        break\n",
    "    print(initial_balance)\n",
    "\n"
   ]
  },
  {
   "cell_type": "code",
   "execution_count": null,
   "metadata": {},
   "outputs": [],
   "source": [
    "def simulate_dice_roll():\n",
    "    random_number = np.random.rand(0, 1)\n",
    "\n",
    "    if random_number < 0.5:\n",
    "        return 1\n",
    "    else:\n",
    "        # return a random number between 2 and 6 with a prob of 10% each\n",
    "        return np.random.choice([2, 3, 4, 5, 6], p=[0.1, 0.1, 0.1, 0.1, 0.1])        "
   ]
  },
  {
   "cell_type": "code",
   "execution_count": 5,
   "metadata": {},
   "outputs": [],
   "source": [
    "# Kelly Criterion Calculation\n",
    "def kelly_fraction(win_prob, loss_prob):\n",
    "    if win_prob <= loss_prob: # Avoid negative Kelly fraction.\n",
    "        return 0.0\n",
    "    return (win_prob - loss_prob) / (1.0) # Simplified for 1:1 payout\n",
    "\n",
    "# Fractional Kelly\n",
    "def fractional_kelly(win_prob, loss_prob, fraction):\n",
    "    k = kelly_fraction(win_prob, loss_prob)\n",
    "    return k * fraction\n",
    "\n",
    "# Simulation Function\n",
    "def run_simulation(bet_fraction, num_hands, num_simulations):\n",
    "    final_balances = []\n",
    "    for _ in range(num_simulations):\n",
    "        balance = 1.0  # Initial bankroll (normalized to 1)\n",
    "        for _ in range(num_hands):\n",
    "            if np.random.rand() < win_prob:\n",
    "                balance *= (1 + bet_fraction)\n",
    "            elif np.random.rand() < win_prob + push_prob:\n",
    "                pass # No change in balance for a push\n",
    "            else:\n",
    "                balance *= (1 - bet_fraction)\n",
    "        final_balances.append(balance)\n",
    "    return final_balances\n",
    "\n",
    "\n"
   ]
  },
  {
   "cell_type": "code",
   "execution_count": 6,
   "metadata": {},
   "outputs": [
    {
     "data": {
      "application/vnd.jupyter.widget-view+json": {
       "model_id": "8f686926bdda429188da6b370dc99330",
       "version_major": 2,
       "version_minor": 0
      },
      "text/plain": [
       "FloatSlider(value=0.49, description='Win Prob:', max=0.6, min=0.3, step=0.01)"
      ]
     },
     "metadata": {},
     "output_type": "display_data"
    },
    {
     "data": {
      "application/vnd.jupyter.widget-view+json": {
       "model_id": "94daca2fb32c44488ab437d6eb291ff4",
       "version_major": 2,
       "version_minor": 0
      },
      "text/plain": [
       "FloatSlider(value=0.5, description='Kelly Fraction:', max=1.0, step=0.05)"
      ]
     },
     "metadata": {},
     "output_type": "display_data"
    },
    {
     "data": {
      "application/vnd.jupyter.widget-view+json": {
       "model_id": "88c8a1b45ffc4ea0a313b8cbd5513c6b",
       "version_major": 2,
       "version_minor": 0
      },
      "text/plain": [
       "IntSlider(value=1000, description='Num Hands:', max=5000, min=100, step=100)"
      ]
     },
     "metadata": {},
     "output_type": "display_data"
    },
    {
     "data": {
      "application/vnd.jupyter.widget-view+json": {
       "model_id": "dd48108e43a84027b6830e8f95e6ca92",
       "version_major": 2,
       "version_minor": 0
      },
      "text/plain": [
       "IntSlider(value=100, description='Num Sims:', max=1000, min=100, step=100)"
      ]
     },
     "metadata": {},
     "output_type": "display_data"
    },
    {
     "data": {
      "application/vnd.jupyter.widget-view+json": {
       "model_id": "b19067c7a8d0499a9cce49ee237884e8",
       "version_major": 2,
       "version_minor": 0
      },
      "text/plain": [
       "Output()"
      ]
     },
     "metadata": {},
     "output_type": "display_data"
    }
   ],
   "source": [
    "# Interactive Widgets\n",
    "win_prob_slider = widgets.FloatSlider(value=win_prob, min=0.3, max=0.6, step=0.01, description='Win Prob:')\n",
    "fraction_slider = widgets.FloatSlider(value=0.5, min=0.0, max=1.0, step=0.05, description='Kelly Fraction:')\n",
    "num_hands_slider = widgets.IntSlider(value=num_hands, min=100, max=5000, step=100, description='Num Hands:')\n",
    "num_sim_slider = widgets.IntSlider(value=num_simulations, min=100, max=1000, step=100, description='Num Sims:')\n",
    "\n",
    "\n",
    "def update_plot(win_prob, fraction, num_hands, num_simulations):\n",
    "    loss_prob = 1 - win_prob - push_prob  # Update loss probability\n",
    "    k_optimal = kelly_fraction(win_prob, loss_prob)\n",
    "    frac_kelly = fractional_kelly(win_prob, loss_prob, fraction)\n",
    "    \n",
    "    # Run simulations\n",
    "    full_kelly_balances = run_simulation(k_optimal, num_hands, num_simulations)\n",
    "    frac_kelly_balances = run_simulation(frac_kelly, num_hands, num_simulations)\n",
    "    \n",
    "    # Plotting\n",
    "    plt.figure(figsize=(10, 6))\n",
    "    plt.hist(full_kelly_balances, bins=50, alpha=0.5, label='Full Kelly')\n",
    "    plt.hist(frac_kelly_balances, bins=50, alpha=0.5, label='Fractional Kelly')\n",
    "    plt.xlabel('Final Bankroll')\n",
    "    plt.ylabel('Frequency')\n",
    "    plt.title(f'Blackjack Simulation (Win Prob: {win_prob:.2f}, Kelly Fraction: {fraction:.2f})')\n",
    "    plt.legend(loc='upper right')\n",
    "    plt.grid(True)\n",
    "    plt.show()\n",
    "\n",
    "    print(f\"Optimal Kelly Fraction: {k_optimal:.4f}\")\n",
    "    print(f\"Used Kelly Fraction: {frac_kelly:.4f}\")\n",
    "    print(f\"Average Full Kelly Return: {np.mean(full_kelly_balances):.4f}\")\n",
    "    print(f\"Average Fractional Kelly Return: {np.mean(frac_kelly_balances):.4f}\")\n",
    "    print(f\"Median Full Kelly Return: {np.median(full_kelly_balances):.4f}\")\n",
    "    print(f\"Median Fractional Kelly Return: {np.median(frac_kelly_balances):.4f}\")\n",
    "\n",
    "\n",
    "interactive_plot = widgets.interactive_output(update_plot, \n",
    "                                                 controls={'win_prob': win_prob_slider,\n",
    "                                                           'fraction': fraction_slider,\n",
    "                                                           'num_hands': num_hands_slider,\n",
    "                                                           'num_simulations': num_sim_slider})\n",
    "\n",
    "display(win_prob_slider, fraction_slider, num_hands_slider, num_sim_slider, interactive_plot)"
   ]
  }
 ],
 "metadata": {
  "kernelspec": {
   "display_name": "Python 3",
   "language": "python",
   "name": "python3"
  },
  "language_info": {
   "name": "python",
   "version": "3.11.5"
  }
 },
 "nbformat": 4,
 "nbformat_minor": 2
}
